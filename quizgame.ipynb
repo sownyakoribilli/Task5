{
 "cells": [
  {
   "cell_type": "code",
   "execution_count": null,
   "metadata": {},
   "outputs": [
    {
     "name": "stdout",
     "output_type": "stream",
     "text": [
      "Welcome to the Simple Quiz Game!\n",
      "You will have 1 chance to select the correct answer.\n",
      "Please enter the alphabet of the answer.\n",
      "\n",
      "1) Who is the father of the C language?\n",
      " a) Dennis Ritchie\n",
      " b) George\n",
      " c) Geek\n",
      " d) Smith\n",
      "\n"
     ]
    }
   ],
   "source": [
    "import time\n",
    "\n",
    "print(\"Welcome to the Simple Quiz Game!\")\n",
    "time.sleep(1)\n",
    "\n",
    "# Chances\n",
    "chances = 1\n",
    "print(f\"You will have {chances} chance to select the correct answer.\")\n",
    "print(\"Please enter the alphabet of the answer.\\n\")\n",
    "time.sleep(2)\n",
    "\n",
    "# Score\n",
    "score = 0\n",
    "\n",
    "# Questions and Answers\n",
    "question_1 = \"1) Who is the father of the C language?\\n a) Dennis Ritchie\\n b) George\\n c) Geek\\n d) Smith\\n\"\n",
    "answer_1 = \"a\"\n",
    "\n",
    "question_2 = \"2)Which of the following is a high-level programming language?\\n a) machine code\\n b) Python\\n c) assembly\\n d) C\\n\"\n",
    "answer_2 = \"b\"\n",
    "\n",
    "question_3 = \"3) What is the purpose of a compiler in programming?\\n a) it converts source code into machine code\\n b) It interprets code line by line\\n c) It optimizes code for execution.\\n d)  It debugs code automatically\\n\"\n",
    "answer_3 = \"a\"\n",
    "\n",
    "questions = [question_1, question_2, question_3]\n",
    "answers = [answer_1, answer_2, answer_3]\n",
    "\n",
    "for i in range(chances):\n",
    "    for j, question in enumerate(questions):\n",
    "        print(question)\n",
    "        answer = input(\"Answer: \")\n",
    "        if answer.lower() == answers[j]:\n",
    "            print(\"Correct! Good job!\\n\")\n",
    "            score += 1\n",
    "        else:\n",
    "            print(\"Incorrect!\\n\")\n",
    "            time.sleep(0.5)\n",
    "            print(f\"The correct answer is {answers[j]}\\n\\n\")\n",
    "            time.sleep(2)\n",
    "\n",
    "# Display the final score and a goodbye message\n",
    "if score >= 2:\n",
    "    print(f\"Well done! Your score was {score}\")\n",
    "else:\n",
    "    print(f\"Better luck next time! Your score was {score}\")\n",
    "\n",
    "# Goodbye message\n",
    "print(\"Thank you for playing the Simple Quiz Game!\")\n"
   ]
  },
  {
   "cell_type": "code",
   "execution_count": null,
   "metadata": {},
   "outputs": [],
   "source": []
  }
 ],
 "metadata": {
  "kernelspec": {
   "display_name": "Python 3",
   "language": "python",
   "name": "python3"
  },
  "language_info": {
   "codemirror_mode": {
    "name": "ipython",
    "version": 3
   },
   "file_extension": ".py",
   "mimetype": "text/x-python",
   "name": "python",
   "nbconvert_exporter": "python",
   "pygments_lexer": "ipython3",
   "version": "3.8.10"
  }
 },
 "nbformat": 4,
 "nbformat_minor": 4
}
